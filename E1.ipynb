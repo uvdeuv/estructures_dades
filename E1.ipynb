{
 "cells": [
  {
   "cell_type": "markdown",
   "id": "021ec45a",
   "metadata": {},
   "source": [
    "Crea una llista que agrupi els mesos de l’any en trimestres (1T: gener, febrer i març; 2T: abril, maig, juny...), és a dir, una llista amb 4 llistes dins."
   ]
  },
  {
   "cell_type": "code",
   "execution_count": 7,
   "id": "9c5a005a",
   "metadata": {},
   "outputs": [
    {
     "name": "stdout",
     "output_type": "stream",
     "text": [
      "[['Gener', 'Febrer', 'Març'], ['Abril', 'Maig', 'Juny'], ['Juliol', 'Agost', 'Setembre'], ['Octubre', 'Novembre', 'Desembre']]\n"
     ]
    }
   ],
   "source": [
    "# creem les llistes Trimestre i Any que conté les les anteriors.\n",
    "T1 = [\"Gener\",\"Febrer\",\"Març\"]\n",
    "T2 = [\"Abril\",\"Maig\",\"Juny\"]\n",
    "T3 = [\"Juliol\",\"Agost\",\"Setembre\"]\n",
    "T4 = [\"Octubre\",\"Novembre\", \"Desembre\"]\n",
    "Any = [T1,T2,T3,T4]\n",
    "print(Any)"
   ]
  },
  {
   "cell_type": "markdown",
   "id": "ec50fa40",
   "metadata": {},
   "source": [
    "Guardo aquest notebook com a .py per a poder importar-lo per l'exercici 2"
   ]
  }
 ],
 "metadata": {
  "kernelspec": {
   "display_name": "Python 3 (ipykernel)",
   "language": "python",
   "name": "python3"
  },
  "language_info": {
   "codemirror_mode": {
    "name": "ipython",
    "version": 3
   },
   "file_extension": ".py",
   "mimetype": "text/x-python",
   "name": "python",
   "nbconvert_exporter": "python",
   "pygments_lexer": "ipython3",
   "version": "3.9.12"
  }
 },
 "nbformat": 4,
 "nbformat_minor": 5
}
