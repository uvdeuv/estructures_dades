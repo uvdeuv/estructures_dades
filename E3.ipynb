{
 "cells": [
  {
   "cell_type": "markdown",
   "id": "8037ea09",
   "metadata": {},
   "source": [
    "Crea una llista amb nombres desordenats i respon a les següents preguntes:\n",
    "\n",
    "    Quants números hi ha?\n",
    "    Quantes vegades apareix el número 3.\n",
    "    Quantes vegades apareixen els nombres 3 i 4?\n",
    "    Quin és el número més gran?\n",
    "    Quins són els 3 números més petits?\n",
    "    Quin és el rang d’aquesta llista?"
   ]
  },
  {
   "cell_type": "code",
   "execution_count": 1,
   "id": "068f5cf1",
   "metadata": {},
   "outputs": [],
   "source": [
    "import numpy as np\n",
    "import random"
   ]
  },
  {
   "cell_type": "code",
   "execution_count": 2,
   "id": "2528c2ee",
   "metadata": {},
   "outputs": [
    {
     "name": "stdout",
     "output_type": "stream",
     "text": [
      "[5, 1, 4, 6, 2, 9, 2, 7, 8, 2, 2, 9, 2, 8, 6, 4, 9, 6, 3]\n"
     ]
    }
   ],
   "source": [
    "# crear una llista desordenada amb numpy amb numeros aleatoris entre 0 i 9 amb una mida entre 1 i 99\n",
    "n = np.random.randint(0,10, size= (np.random.randint(1,100)))\n",
    "# numpy crea arrays i s'ha de convertir a llista\n",
    "my_list = n.tolist()\n",
    "print(my_list)"
   ]
  },
  {
   "cell_type": "code",
   "execution_count": 3,
   "id": "5a066b57",
   "metadata": {},
   "outputs": [
    {
     "name": "stdout",
     "output_type": "stream",
     "text": [
      "hi ha 19 números\n"
     ]
    }
   ],
   "source": [
    "# Quants números hi ha?\n",
    "len(my_list)\n",
    "print(\"hi ha\", end=' ')\n",
    "print(len(my_list), end=' ')\n",
    "print (\"números\")"
   ]
  },
  {
   "cell_type": "code",
   "execution_count": 4,
   "id": "2deeb5ce",
   "metadata": {},
   "outputs": [
    {
     "name": "stdout",
     "output_type": "stream",
     "text": [
      "el número 3 apareix 1 vegades\n"
     ]
    }
   ],
   "source": [
    "#Quantes vegades apareix el número 3.\n",
    "count3 = my_list.count(3)\n",
    "print(\"el número 3 apareix\", end=' ')\n",
    "print(count3, end=' ')\n",
    "print (\"vegades\")"
   ]
  },
  {
   "cell_type": "code",
   "execution_count": 5,
   "id": "65b55450",
   "metadata": {},
   "outputs": [
    {
     "name": "stdout",
     "output_type": "stream",
     "text": [
      "el número 3 i 4 apareixen un total de 2 vegades\n"
     ]
    }
   ],
   "source": [
    "#Quantes vegades apareixen els nombres 3 i 4?\n",
    "count4 = my_list.count(3)\n",
    "print(\"el número 3 i 4 apareixen un total de\", end=' ')\n",
    "print(count3 + count4, end=' ')\n",
    "print (\"vegades\")"
   ]
  },
  {
   "cell_type": "code",
   "execution_count": 6,
   "id": "78286213",
   "metadata": {},
   "outputs": [],
   "source": [
    "#Quin és el número més gran?\n",
    "#la llista anterior no funciona, perque està feta en un rang molt petit"
   ]
  },
  {
   "cell_type": "code",
   "execution_count": 9,
   "id": "c32f6368",
   "metadata": {},
   "outputs": [
    {
     "name": "stdout",
     "output_type": "stream",
     "text": [
      "[9954, 6350, 6197, 7482, 9693, 9747, 1346, 7981, 2644, 1062, 7598, 2637, 8401, 5201, 7492, 4521, 6644, 732, 1852, 4188, 9569, 9045, 5350, 711, 5494, 1364, 3798, 1110, 6331, 9016, 9419, 6073, 8550, 8064, 9341, 5443, 7810, 9414, 9801, 3430, 1085, 6296, 3879, 7080, 6990, 3346, 9769, 5979, 946, 9826, 4699, 2291, 7875, 7463, 949, 9779, 8492, 8548, 9735, 6608, 2105, 6695, 6694, 2874, 2463, 4741, 2426, 6911, 1109, 3353, 5321, 3034, 7907, 102, 834, 8623, 7514, 2372, 4873, 9345, 2354, 3237, 2237, 2984, 2692, 7537, 4459, 2428, 3745, 8337, 2708, 944, 6566, 3418, 3966, 5372, 5508, 6761, 8514, 9773, 9035, 9537, 7988, 1771, 3386, 663, 8167, 1411, 9247, 7793, 869, 3807, 3652, 1882, 7360, 8202, 5471, 2686, 5421, 675, 2450, 1624, 5525, 1478, 4960, 8046, 4475, 2127, 4725, 2434, 7749, 8617, 3821, 1619, 8274, 4150, 7054, 939, 8774, 3834, 5602, 3246, 9191, 9088, 7211, 2365, 9135, 9620, 9132, 5665, 6789, 5527, 5671, 1134, 6631, 9514, 2024, 9208, 2825, 3564, 1526, 5539, 1937, 4362, 1418, 7049, 6465, 8939, 4059, 6931, 5341, 6153, 6914, 5761, 9394, 806, 2068, 5936, 3096, 3467, 862, 4937, 8478, 6946, 2497, 1012, 405, 5319, 3013, 4334, 9296, 662, 3679, 8604, 377, 2871, 7488, 4011, 5780, 7771, 7729, 46, 8795, 2842, 1762, 3985, 4137, 5192, 8433, 8763, 2325, 3647, 7811, 2565, 6489, 5589, 6, 2392, 7918, 2494, 8159, 5337, 5446, 8526, 9959, 9866, 9926, 2850, 3310, 6615, 1931, 4345, 6082, 9195, 4285, 2568, 5073, 3348, 4916, 6169, 9462, 5790, 9893, 9446, 5853, 6045, 3338, 9663, 8309, 6426, 7646, 1148, 791, 601, 3907, 8288, 6296, 8657, 4699, 8290, 8694, 9926, 5309, 2817, 1295, 6709, 4892, 6308, 3175, 1772, 4061, 5551, 4190, 2568, 3625, 6106, 9984, 127, 8441, 5758, 3180, 3322, 8979, 8186, 4941, 1614, 8189, 7131, 7446, 6617, 6930, 823, 2467, 1125, 1280, 795, 7258, 8879, 6154, 4806, 5278, 8570, 9354, 7016, 4281, 4301, 724, 2431, 8339, 6542, 5315, 4464, 4732, 8087, 158, 57, 9229, 9195, 602, 2038, 2570, 8008, 8749, 5630, 3454, 1604, 2468, 2670, 3905, 5071, 5654, 983, 9211, 1081, 7770, 6864, 8011, 8158, 2176, 3755, 9782, 8760, 3952, 5848, 484, 3328, 7315, 9525, 984, 4301, 4252, 2703, 4105, 9690, 2648, 5884, 9605, 4016, 6598, 9315, 3923, 943, 8455, 7500, 141, 9778, 2187, 5514, 6792, 1432, 6681, 308, 8950, 17, 201, 3418, 3804, 8552, 1064, 6396, 7877, 461, 7252, 105, 6450, 1880, 155, 3606, 4858, 6434, 4696, 3290, 3703, 9048, 8610, 3777, 8035, 4572, 8423, 2810, 8878, 6560, 9810, 8771, 91, 851, 5435, 3345, 8826, 124, 7470, 1173, 2485, 4228, 4262, 4626, 8253, 6282, 8811, 1834, 2156, 4776, 5880, 1175, 4029, 9466, 3007, 441, 9195, 3852, 6485, 3979, 9735, 8288, 50, 9808, 5351, 6182, 1084, 5065, 3090, 8880, 6545, 4868, 4305, 5979, 9941, 6653, 3249, 5221, 1264, 9256, 5041, 7719, 3484, 8149, 1146, 4542, 9294, 104, 5657, 4845, 7124, 93, 4534, 8632, 9219, 891, 1757, 7729, 6480, 9073, 7603, 179, 4013, 4752, 5994, 7275, 8328, 5396, 2264, 1058, 3910, 6929, 7042, 8014, 588, 7005, 3282]\n"
     ]
    }
   ],
   "source": [
    "# crear una llista desordenada amb numpy amb numeros aleatoris entre 0 i 9 amb una mida entre 1 i 99\n",
    "l2 = np.random.randint(0,10000, size= (np.random.randint(1,1000)))\n",
    "# numpy crea arrays i s'ha de convertir a llista\n",
    "my_list = l2.tolist()\n",
    "print(my_list)"
   ]
  },
  {
   "cell_type": "code",
   "execution_count": 10,
   "id": "677748d1",
   "metadata": {},
   "outputs": [],
   "source": [
    "from functools import reduce "
   ]
  },
  {
   "cell_type": "code",
   "execution_count": null,
   "id": "95489bda",
   "metadata": {},
   "outputs": [],
   "source": []
  }
 ],
 "metadata": {
  "kernelspec": {
   "display_name": "Python 3 (ipykernel)",
   "language": "python",
   "name": "python3"
  },
  "language_info": {
   "codemirror_mode": {
    "name": "ipython",
    "version": 3
   },
   "file_extension": ".py",
   "mimetype": "text/x-python",
   "name": "python",
   "nbconvert_exporter": "python",
   "pygments_lexer": "ipython3",
   "version": "3.9.12"
  }
 },
 "nbformat": 4,
 "nbformat_minor": 5
}
