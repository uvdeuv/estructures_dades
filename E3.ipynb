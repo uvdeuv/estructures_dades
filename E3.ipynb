{
 "cells": [
  {
   "cell_type": "markdown",
   "id": "8037ea09",
   "metadata": {},
   "source": [
    "Crea una llista amb nombres desordenats i respon a les següents preguntes:\n",
    "\n",
    "    Quants números hi ha?\n",
    "    Quantes vegades apareix el número 3.\n",
    "    Quantes vegades apareixen els nombres 3 i 4?\n",
    "    Quin és el número més gran?\n",
    "    Quins són els 3 números més petits?\n",
    "    Quin és el rang d’aquesta llista?"
   ]
  },
  {
   "cell_type": "code",
   "execution_count": 1,
   "id": "068f5cf1",
   "metadata": {},
   "outputs": [],
   "source": [
    "import numpy as np\n",
    "import random"
   ]
  },
  {
   "cell_type": "code",
   "execution_count": 28,
   "id": "2528c2ee",
   "metadata": {},
   "outputs": [
    {
     "name": "stdout",
     "output_type": "stream",
     "text": [
      "[0, 3, 7, 9, 8, 8, 7, 5, 9, 7, 4, 2, 2, 8, 6, 2, 6, 8, 4, 3, 3, 2, 6, 5, 7, 4, 3, 7, 2, 0, 6, 0, 6, 3, 3, 8, 5, 5, 9, 6, 4, 2, 4, 6, 1, 3, 9, 5, 0, 5, 1, 5, 6, 5, 3, 6, 7, 9, 9, 0, 4, 2, 5, 5, 6, 7, 4, 9, 2, 2, 3, 1, 5, 3, 9, 6, 4, 3, 7, 6, 5, 7, 1, 9, 4, 3, 2, 1, 5, 6, 2, 8, 0, 3]\n"
     ]
    }
   ],
   "source": [
    "# crear una llista desordenada amb numpy amb numeros aleatoris entre 0 i 9 amb una mida entre 1 i 99\n",
    "n = np.random.randint(0,10, size= (np.random.randint(1,100)))\n",
    "# numpy crea arrays i s'ha de convertir a llista\n",
    "my_list = n.tolist()\n",
    "print(my_list)"
   ]
  },
  {
   "cell_type": "code",
   "execution_count": 43,
   "id": "5a066b57",
   "metadata": {},
   "outputs": [
    {
     "name": "stdout",
     "output_type": "stream",
     "text": [
      "hi ha 94 números\n"
     ]
    }
   ],
   "source": [
    "# Quants números hi ha?\n",
    "len(my_list)\n",
    "print(\"hi ha\", end=' ')\n",
    "print(len(my_list), end=' ')\n",
    "print (\"números\")"
   ]
  },
  {
   "cell_type": "code",
   "execution_count": 46,
   "id": "2deeb5ce",
   "metadata": {},
   "outputs": [
    {
     "name": "stdout",
     "output_type": "stream",
     "text": [
      "el número 3 apareix 13 vegades\n"
     ]
    }
   ],
   "source": [
    "#Quantes vegades apareix el número 3.\n",
    "count3 = my_list.count(3)\n",
    "print(\"el número 3 apareix\", end=' ')\n",
    "print(count3, end=' ')\n",
    "print (\"vegades\")"
   ]
  },
  {
   "cell_type": "code",
   "execution_count": 47,
   "id": "65b55450",
   "metadata": {},
   "outputs": [
    {
     "name": "stdout",
     "output_type": "stream",
     "text": [
      "el número 3 i 4 apareixen un total de 26 vegades\n"
     ]
    }
   ],
   "source": [
    "#Quantes vegades apareixen els nombres 3 i 4?\n",
    "count4 = my_list.count(3)\n",
    "print(\"el número 3 i 4 apareixen un total de\", end=' ')\n",
    "print(count3 + count4, end=' ')\n",
    "print (\"vegades\")"
   ]
  },
  {
   "cell_type": "code",
   "execution_count": null,
   "id": "78286213",
   "metadata": {},
   "outputs": [],
   "source": [
    "#Quin és el número més gran?\n",
    "#la llista anterior no funciona, perque està feta en un rang molt petit"
   ]
  },
  {
   "cell_type": "code",
   "execution_count": 60,
   "id": "c32f6368",
   "metadata": {},
   "outputs": [
    {
     "ename": "AttributeError",
     "evalue": "'numpy.ndarray' object has no attribute 'toset'",
     "output_type": "error",
     "traceback": [
      "\u001b[1;31m---------------------------------------------------------------------------\u001b[0m",
      "\u001b[1;31mAttributeError\u001b[0m                            Traceback (most recent call last)",
      "Input \u001b[1;32mIn [60]\u001b[0m, in \u001b[0;36m<cell line: 5>\u001b[1;34m()\u001b[0m\n\u001b[0;32m      3\u001b[0m \u001b[38;5;66;03m# numpy crea arrays i s'ha de convertir a llista\u001b[39;00m\n\u001b[0;32m      4\u001b[0m my_list \u001b[38;5;241m=\u001b[39m l2\u001b[38;5;241m.\u001b[39mtolist()\n\u001b[1;32m----> 5\u001b[0m my_set \u001b[38;5;241m=\u001b[39m \u001b[43ml2\u001b[49m\u001b[38;5;241;43m.\u001b[39;49m\u001b[43mtoset\u001b[49m()\n\u001b[0;32m      6\u001b[0m \u001b[38;5;28mprint\u001b[39m(my_set)\n",
      "\u001b[1;31mAttributeError\u001b[0m: 'numpy.ndarray' object has no attribute 'toset'"
     ]
    }
   ],
   "source": [
    "# crear una llista desordenada amb numpy amb numeros aleatoris entre 0 i 9 amb una mida entre 1 i 99\n",
    "l2 = np.random.randint(0,10000, size= (np.random.randint(1,1000)))\n",
    "# numpy crea arrays i s'ha de convertir a llista\n",
    "my_list = l2.tolist()\n",
    "my_set = l2.to\n",
    "print(my_set)"
   ]
  },
  {
   "cell_type": "code",
   "execution_count": 59,
   "id": "677748d1",
   "metadata": {},
   "outputs": [],
   "source": [
    "from functools import reduce "
   ]
  },
  {
   "cell_type": "code",
   "execution_count": null,
   "id": "95489bda",
   "metadata": {},
   "outputs": [],
   "source": []
  }
 ],
 "metadata": {
  "kernelspec": {
   "display_name": "Python 3 (ipykernel)",
   "language": "python",
   "name": "python3"
  },
  "language_info": {
   "codemirror_mode": {
    "name": "ipython",
    "version": 3
   },
   "file_extension": ".py",
   "mimetype": "text/x-python",
   "name": "python",
   "nbconvert_exporter": "python",
   "pygments_lexer": "ipython3",
   "version": "3.9.12"
  }
 },
 "nbformat": 4,
 "nbformat_minor": 5
}
