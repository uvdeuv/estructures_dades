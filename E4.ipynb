{
 "cells": [
  {
   "cell_type": "markdown",
   "id": "905a1ac5",
   "metadata": {},
   "source": [
    "Afegeix alguna fruita més\n",
    "Quant han costat les peres en total?\n",
    "Quantes fruites hem comprat en total?\n",
    "Quina és la fruita més cara?"
   ]
  },
  {
   "cell_type": "code",
   "execution_count": 1,
   "id": "cfabc346",
   "metadata": {},
   "outputs": [],
   "source": [
    "compra = { \"Pomes\" : {\"Qty\": 5, \"€\": 0.42}, \"Peres\" : {\"Qty\": 3, \"€\": 0.66} }"
   ]
  },
  {
   "cell_type": "code",
   "execution_count": 2,
   "id": "7e50e98f",
   "metadata": {},
   "outputs": [],
   "source": [
    "#afegeix alguna fruita mes\n",
    "compra[\"Castanyes\"] = {\"Qty\" : 7, \"€\":0.23}"
   ]
  },
  {
   "cell_type": "code",
   "execution_count": 3,
   "id": "7b099eef",
   "metadata": {},
   "outputs": [
    {
     "name": "stdout",
     "output_type": "stream",
     "text": [
      "{'Pomes': {'Qty': 5, '€': 0.42}, 'Peres': {'Qty': 3, '€': 0.66}, 'Castanyes': {'Qty': 7, '€': 0.23}}\n"
     ]
    }
   ],
   "source": [
    "print(compra)"
   ]
  },
  {
   "cell_type": "code",
   "execution_count": 4,
   "id": "6746a3ea",
   "metadata": {},
   "outputs": [
    {
     "name": "stdout",
     "output_type": "stream",
     "text": [
      "les peres han costat 1.98€\n"
     ]
    }
   ],
   "source": [
    "#Quant han costat les peres\n",
    "\n",
    "Qper = compra[\"Peres\"][\"Qty\"]\n",
    "Pper = compra[\"Peres\"][\"€\"]\n",
    "Tper = Qper*Pper\n",
    "print(\"les peres han costat\", end=\" \")\n",
    "print(Tper, end = \"\")\n",
    "print(\"€\")"
   ]
  },
  {
   "cell_type": "code",
   "execution_count": 5,
   "id": "a36d8e3e",
   "metadata": {},
   "outputs": [
    {
     "name": "stdout",
     "output_type": "stream",
     "text": [
      "hem comprat 15 fruites en total\n"
     ]
    }
   ],
   "source": [
    "#Quantes fruites hem comprat en total?\n",
    "qty = compra[\"Peres\"][\"Qty\"]+compra[\"Pomes\"][\"Qty\"]+compra[\"Castanyes\"][\"Qty\"]\n",
    "print(\"hem comprat\", end=\" \")\n",
    "print(qty, end=\" \")\n",
    "print(\"fruites en total\")"
   ]
  },
  {
   "cell_type": "code",
   "execution_count": 6,
   "id": "93709131",
   "metadata": {},
   "outputs": [],
   "source": [
    "#Quina és la fruita més cara?\n"
   ]
  },
  {
   "cell_type": "code",
   "execution_count": 7,
   "id": "a04f1f6d",
   "metadata": {},
   "outputs": [],
   "source": [
    "Qpom = compra[\"Pomes\"][\"Qty\"]\n",
    "Ppom = compra[\"Pomes\"][\"€\"]\n",
    "Tpom = Qpom*Ppom\n",
    "Qcas = compra[\"Castanyes\"][\"Qty\"]\n",
    "Pcas = compra[\"Castanyes\"][\"€\"]\n",
    "Tcas = Qcas*Pcas\n",
    "Mf=max(Tpom,Tper,Tcas)\n",
    "\n"
   ]
  },
  {
   "cell_type": "code",
   "execution_count": 9,
   "id": "d183a52e",
   "metadata": {},
   "outputs": [
    {
     "name": "stdout",
     "output_type": "stream",
     "text": [
      "la Poma és la fruita més cara\n"
     ]
    }
   ],
   "source": [
    "if (Mf==Tcas):\n",
    "    print(\"la Castanya és la fruita més cara\")\n",
    "\n",
    "elif (Mf==Tpom):\n",
    "    print(\"la Poma és la fruita més cara\")\n",
    "\n",
    "else:\n",
    "    print(\"la Pera és la fruita més cara\")\n"
   ]
  },
  {
   "cell_type": "code",
   "execution_count": null,
   "id": "d7763612",
   "metadata": {},
   "outputs": [],
   "source": []
  },
  {
   "cell_type": "code",
   "execution_count": null,
   "id": "14f3bb58",
   "metadata": {},
   "outputs": [],
   "source": []
  },
  {
   "cell_type": "code",
   "execution_count": null,
   "id": "0a904e1a",
   "metadata": {},
   "outputs": [],
   "source": []
  }
 ],
 "metadata": {
  "kernelspec": {
   "display_name": "Python 3 (ipykernel)",
   "language": "python",
   "name": "python3"
  },
  "language_info": {
   "codemirror_mode": {
    "name": "ipython",
    "version": 3
   },
   "file_extension": ".py",
   "mimetype": "text/x-python",
   "name": "python",
   "nbconvert_exporter": "python",
   "pygments_lexer": "ipython3",
   "version": "3.9.12"
  }
 },
 "nbformat": 4,
 "nbformat_minor": 5
}
