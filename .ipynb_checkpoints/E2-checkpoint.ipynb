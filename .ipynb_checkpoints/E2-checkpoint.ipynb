{
 "cells": [
  {
   "cell_type": "markdown",
   "id": "bd2b2b2b",
   "metadata": {},
   "source": [
    "Crea un codi que et permeti accedir a:\n",
    "\n",
    "    El segon mes del primer trimestre.\n",
    "    Els mesos del primer trimestre.\n",
    "    Setembre i octubre.\n"
   ]
  },
  {
   "cell_type": "code",
   "execution_count": 4,
   "id": "afc856dc",
   "metadata": {},
   "outputs": [],
   "source": [
    "#import la llista de l'exercici anterior\n",
    "from E1 import Any"
   ]
  },
  {
   "cell_type": "code",
   "execution_count": 5,
   "id": "90c4ef10",
   "metadata": {},
   "outputs": [
    {
     "name": "stdout",
     "output_type": "stream",
     "text": [
      "Febrer\n"
     ]
    }
   ],
   "source": [
    "#el segon mes del primer trimestre\n",
    "print(Any[0][1])"
   ]
  },
  {
   "cell_type": "code",
   "execution_count": 6,
   "id": "7bbc9d7a",
   "metadata": {},
   "outputs": [
    {
     "name": "stdout",
     "output_type": "stream",
     "text": [
      "['Gener', 'Febrer', 'Març']\n"
     ]
    }
   ],
   "source": [
    "#els mesos del primer trimestre\n",
    "print(Any[0])"
   ]
  },
  {
   "cell_type": "code",
   "execution_count": 7,
   "id": "dec5d891",
   "metadata": {},
   "outputs": [
    {
     "name": "stdout",
     "output_type": "stream",
     "text": [
      "Setembre i Octubre\n"
     ]
    }
   ],
   "source": [
    "#setembre i octubre\n",
    "print(Any[2][2],\"i\", Any[3][0])"
   ]
  }
 ],
 "metadata": {
  "kernelspec": {
   "display_name": "Python 3 (ipykernel)",
   "language": "python",
   "name": "python3"
  },
  "language_info": {
   "codemirror_mode": {
    "name": "ipython",
    "version": 3
   },
   "file_extension": ".py",
   "mimetype": "text/x-python",
   "name": "python",
   "nbconvert_exporter": "python",
   "pygments_lexer": "ipython3",
   "version": "3.9.12"
  }
 },
 "nbformat": 4,
 "nbformat_minor": 5
}
